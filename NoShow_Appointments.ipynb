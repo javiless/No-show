{
 "cells": [
  {
   "cell_type": "markdown",
   "metadata": {},
   "source": [
    "# Project: No-Show Appointments\n",
    "\n",
    "## Table of Contents\n",
    "<ul>\n",
    "<li><a href=\"#intro\">INTRODUCTION</a></li>\n",
    "<li><a href=\"#wrangling\">DATA WRANGLING</a></li>\n",
    "<li><a href=\"#gathering\">Gathering</a></li>\n",
    "<li><a href=\"#assessing\">Assessing</a></li>\n",
    "<li><a href=\"#cleaning\">Cleaning</a></li>\n",
    "<li><a href=\"#da\">DATA ANALYSIS</a></li>\n",
    "<li><a href=\"#conclusions\">CONCLUSIONS</a></li>\n",
    "</ul>"
   ]
  },
  {
   "cell_type": "markdown",
   "metadata": {},
   "source": [
    "<a id='intro'></a>\n",
    "## Introduction"
   ]
  },
  {
   "cell_type": "code",
   "execution_count": 1,
   "metadata": {},
   "outputs": [],
   "source": [
    "# import all packages and set plots to be embedded inline\n",
    "import numpy as np\n",
    "import pandas as pd\n",
    "import matplotlib.pyplot as plt\n",
    "import seaborn as sb\n",
    "\n",
    "%matplotlib inline"
   ]
  },
  {
   "cell_type": "markdown",
   "metadata": {},
   "source": [
    "<a id='wrangling'></a>\n",
    "## Data Wrangling"
   ]
  },
  {
   "cell_type": "markdown",
   "metadata": {},
   "source": [
    "<a id='gathering'></a>\n",
    "### Gathering"
   ]
  },
  {
   "cell_type": "code",
   "execution_count": 133,
   "metadata": {},
   "outputs": [],
   "source": [
    "df = pd.read_csv('noshowappointments-kagglev2-may-2016.csv')"
   ]
  },
  {
   "cell_type": "markdown",
   "metadata": {},
   "source": [
    "<a id='assessing'></a>\n",
    "### Assessing"
   ]
  },
  {
   "cell_type": "markdown",
   "metadata": {},
   "source": [
    "#### Assessing of the whole dataframe"
   ]
  },
  {
   "cell_type": "code",
   "execution_count": 134,
   "metadata": {},
   "outputs": [
    {
     "data": {
      "text/html": [
       "<div>\n",
       "<style scoped>\n",
       "    .dataframe tbody tr th:only-of-type {\n",
       "        vertical-align: middle;\n",
       "    }\n",
       "\n",
       "    .dataframe tbody tr th {\n",
       "        vertical-align: top;\n",
       "    }\n",
       "\n",
       "    .dataframe thead th {\n",
       "        text-align: right;\n",
       "    }\n",
       "</style>\n",
       "<table border=\"1\" class=\"dataframe\">\n",
       "  <thead>\n",
       "    <tr style=\"text-align: right;\">\n",
       "      <th></th>\n",
       "      <th>PatientId</th>\n",
       "      <th>AppointmentID</th>\n",
       "      <th>Gender</th>\n",
       "      <th>ScheduledDay</th>\n",
       "      <th>AppointmentDay</th>\n",
       "      <th>Age</th>\n",
       "      <th>Neighbourhood</th>\n",
       "      <th>Scholarship</th>\n",
       "      <th>Hipertension</th>\n",
       "      <th>Diabetes</th>\n",
       "      <th>Alcoholism</th>\n",
       "      <th>Handcap</th>\n",
       "      <th>SMS_received</th>\n",
       "      <th>No-show</th>\n",
       "    </tr>\n",
       "  </thead>\n",
       "  <tbody>\n",
       "    <tr>\n",
       "      <th>0</th>\n",
       "      <td>2.987250e+13</td>\n",
       "      <td>5642903</td>\n",
       "      <td>F</td>\n",
       "      <td>2016-04-29T18:38:08Z</td>\n",
       "      <td>2016-04-29T00:00:00Z</td>\n",
       "      <td>62</td>\n",
       "      <td>JARDIM DA PENHA</td>\n",
       "      <td>0</td>\n",
       "      <td>1</td>\n",
       "      <td>0</td>\n",
       "      <td>0</td>\n",
       "      <td>0</td>\n",
       "      <td>0</td>\n",
       "      <td>No</td>\n",
       "    </tr>\n",
       "    <tr>\n",
       "      <th>1</th>\n",
       "      <td>5.589978e+14</td>\n",
       "      <td>5642503</td>\n",
       "      <td>M</td>\n",
       "      <td>2016-04-29T16:08:27Z</td>\n",
       "      <td>2016-04-29T00:00:00Z</td>\n",
       "      <td>56</td>\n",
       "      <td>JARDIM DA PENHA</td>\n",
       "      <td>0</td>\n",
       "      <td>0</td>\n",
       "      <td>0</td>\n",
       "      <td>0</td>\n",
       "      <td>0</td>\n",
       "      <td>0</td>\n",
       "      <td>No</td>\n",
       "    </tr>\n",
       "    <tr>\n",
       "      <th>2</th>\n",
       "      <td>4.262962e+12</td>\n",
       "      <td>5642549</td>\n",
       "      <td>F</td>\n",
       "      <td>2016-04-29T16:19:04Z</td>\n",
       "      <td>2016-04-29T00:00:00Z</td>\n",
       "      <td>62</td>\n",
       "      <td>MATA DA PRAIA</td>\n",
       "      <td>0</td>\n",
       "      <td>0</td>\n",
       "      <td>0</td>\n",
       "      <td>0</td>\n",
       "      <td>0</td>\n",
       "      <td>0</td>\n",
       "      <td>No</td>\n",
       "    </tr>\n",
       "    <tr>\n",
       "      <th>3</th>\n",
       "      <td>8.679512e+11</td>\n",
       "      <td>5642828</td>\n",
       "      <td>F</td>\n",
       "      <td>2016-04-29T17:29:31Z</td>\n",
       "      <td>2016-04-29T00:00:00Z</td>\n",
       "      <td>8</td>\n",
       "      <td>PONTAL DE CAMBURI</td>\n",
       "      <td>0</td>\n",
       "      <td>0</td>\n",
       "      <td>0</td>\n",
       "      <td>0</td>\n",
       "      <td>0</td>\n",
       "      <td>0</td>\n",
       "      <td>No</td>\n",
       "    </tr>\n",
       "    <tr>\n",
       "      <th>4</th>\n",
       "      <td>8.841186e+12</td>\n",
       "      <td>5642494</td>\n",
       "      <td>F</td>\n",
       "      <td>2016-04-29T16:07:23Z</td>\n",
       "      <td>2016-04-29T00:00:00Z</td>\n",
       "      <td>56</td>\n",
       "      <td>JARDIM DA PENHA</td>\n",
       "      <td>0</td>\n",
       "      <td>1</td>\n",
       "      <td>1</td>\n",
       "      <td>0</td>\n",
       "      <td>0</td>\n",
       "      <td>0</td>\n",
       "      <td>No</td>\n",
       "    </tr>\n",
       "  </tbody>\n",
       "</table>\n",
       "</div>"
      ],
      "text/plain": [
       "      PatientId  AppointmentID Gender          ScheduledDay  \\\n",
       "0  2.987250e+13        5642903      F  2016-04-29T18:38:08Z   \n",
       "1  5.589978e+14        5642503      M  2016-04-29T16:08:27Z   \n",
       "2  4.262962e+12        5642549      F  2016-04-29T16:19:04Z   \n",
       "3  8.679512e+11        5642828      F  2016-04-29T17:29:31Z   \n",
       "4  8.841186e+12        5642494      F  2016-04-29T16:07:23Z   \n",
       "\n",
       "         AppointmentDay  Age      Neighbourhood  Scholarship  Hipertension  \\\n",
       "0  2016-04-29T00:00:00Z   62    JARDIM DA PENHA            0             1   \n",
       "1  2016-04-29T00:00:00Z   56    JARDIM DA PENHA            0             0   \n",
       "2  2016-04-29T00:00:00Z   62      MATA DA PRAIA            0             0   \n",
       "3  2016-04-29T00:00:00Z    8  PONTAL DE CAMBURI            0             0   \n",
       "4  2016-04-29T00:00:00Z   56    JARDIM DA PENHA            0             1   \n",
       "\n",
       "   Diabetes  Alcoholism  Handcap  SMS_received No-show  \n",
       "0         0           0        0             0      No  \n",
       "1         0           0        0             0      No  \n",
       "2         0           0        0             0      No  \n",
       "3         0           0        0             0      No  \n",
       "4         1           0        0             0      No  "
      ]
     },
     "execution_count": 134,
     "metadata": {},
     "output_type": "execute_result"
    }
   ],
   "source": [
    "df.head()"
   ]
  },
  {
   "cell_type": "code",
   "execution_count": 135,
   "metadata": {},
   "outputs": [
    {
     "data": {
      "text/html": [
       "<div>\n",
       "<style scoped>\n",
       "    .dataframe tbody tr th:only-of-type {\n",
       "        vertical-align: middle;\n",
       "    }\n",
       "\n",
       "    .dataframe tbody tr th {\n",
       "        vertical-align: top;\n",
       "    }\n",
       "\n",
       "    .dataframe thead th {\n",
       "        text-align: right;\n",
       "    }\n",
       "</style>\n",
       "<table border=\"1\" class=\"dataframe\">\n",
       "  <thead>\n",
       "    <tr style=\"text-align: right;\">\n",
       "      <th></th>\n",
       "      <th>PatientId</th>\n",
       "      <th>AppointmentID</th>\n",
       "      <th>Gender</th>\n",
       "      <th>ScheduledDay</th>\n",
       "      <th>AppointmentDay</th>\n",
       "      <th>Age</th>\n",
       "      <th>Neighbourhood</th>\n",
       "      <th>Scholarship</th>\n",
       "      <th>Hipertension</th>\n",
       "      <th>Diabetes</th>\n",
       "      <th>Alcoholism</th>\n",
       "      <th>Handcap</th>\n",
       "      <th>SMS_received</th>\n",
       "      <th>No-show</th>\n",
       "    </tr>\n",
       "  </thead>\n",
       "  <tbody>\n",
       "    <tr>\n",
       "      <th>110534</th>\n",
       "      <td>2.572134e+12</td>\n",
       "      <td>5651768</td>\n",
       "      <td>F</td>\n",
       "      <td>2016-05-03T09:15:35Z</td>\n",
       "      <td>2016-06-07T00:00:00Z</td>\n",
       "      <td>56</td>\n",
       "      <td>MARIA ORTIZ</td>\n",
       "      <td>0</td>\n",
       "      <td>0</td>\n",
       "      <td>0</td>\n",
       "      <td>0</td>\n",
       "      <td>0</td>\n",
       "      <td>1</td>\n",
       "      <td>No</td>\n",
       "    </tr>\n",
       "    <tr>\n",
       "      <th>110535</th>\n",
       "      <td>3.596266e+12</td>\n",
       "      <td>5650093</td>\n",
       "      <td>F</td>\n",
       "      <td>2016-05-03T07:27:33Z</td>\n",
       "      <td>2016-06-07T00:00:00Z</td>\n",
       "      <td>51</td>\n",
       "      <td>MARIA ORTIZ</td>\n",
       "      <td>0</td>\n",
       "      <td>0</td>\n",
       "      <td>0</td>\n",
       "      <td>0</td>\n",
       "      <td>0</td>\n",
       "      <td>1</td>\n",
       "      <td>No</td>\n",
       "    </tr>\n",
       "    <tr>\n",
       "      <th>110536</th>\n",
       "      <td>1.557663e+13</td>\n",
       "      <td>5630692</td>\n",
       "      <td>F</td>\n",
       "      <td>2016-04-27T16:03:52Z</td>\n",
       "      <td>2016-06-07T00:00:00Z</td>\n",
       "      <td>21</td>\n",
       "      <td>MARIA ORTIZ</td>\n",
       "      <td>0</td>\n",
       "      <td>0</td>\n",
       "      <td>0</td>\n",
       "      <td>0</td>\n",
       "      <td>0</td>\n",
       "      <td>1</td>\n",
       "      <td>No</td>\n",
       "    </tr>\n",
       "    <tr>\n",
       "      <th>110537</th>\n",
       "      <td>9.213493e+13</td>\n",
       "      <td>5630323</td>\n",
       "      <td>F</td>\n",
       "      <td>2016-04-27T15:09:23Z</td>\n",
       "      <td>2016-06-07T00:00:00Z</td>\n",
       "      <td>38</td>\n",
       "      <td>MARIA ORTIZ</td>\n",
       "      <td>0</td>\n",
       "      <td>0</td>\n",
       "      <td>0</td>\n",
       "      <td>0</td>\n",
       "      <td>0</td>\n",
       "      <td>1</td>\n",
       "      <td>No</td>\n",
       "    </tr>\n",
       "    <tr>\n",
       "      <th>110538</th>\n",
       "      <td>3.775115e+14</td>\n",
       "      <td>5629448</td>\n",
       "      <td>F</td>\n",
       "      <td>2016-04-27T13:30:56Z</td>\n",
       "      <td>2016-06-07T00:00:00Z</td>\n",
       "      <td>54</td>\n",
       "      <td>MARIA ORTIZ</td>\n",
       "      <td>0</td>\n",
       "      <td>0</td>\n",
       "      <td>0</td>\n",
       "      <td>0</td>\n",
       "      <td>0</td>\n",
       "      <td>1</td>\n",
       "      <td>No</td>\n",
       "    </tr>\n",
       "  </tbody>\n",
       "</table>\n",
       "</div>"
      ],
      "text/plain": [
       "           PatientId  AppointmentID Gender          ScheduledDay  \\\n",
       "110534  2.572134e+12        5651768      F  2016-05-03T09:15:35Z   \n",
       "110535  3.596266e+12        5650093      F  2016-05-03T07:27:33Z   \n",
       "110536  1.557663e+13        5630692      F  2016-04-27T16:03:52Z   \n",
       "110537  9.213493e+13        5630323      F  2016-04-27T15:09:23Z   \n",
       "110538  3.775115e+14        5629448      F  2016-04-27T13:30:56Z   \n",
       "\n",
       "              AppointmentDay  Age Neighbourhood  Scholarship  Hipertension  \\\n",
       "110534  2016-06-07T00:00:00Z   56   MARIA ORTIZ            0             0   \n",
       "110535  2016-06-07T00:00:00Z   51   MARIA ORTIZ            0             0   \n",
       "110536  2016-06-07T00:00:00Z   21   MARIA ORTIZ            0             0   \n",
       "110537  2016-06-07T00:00:00Z   38   MARIA ORTIZ            0             0   \n",
       "110538  2016-06-07T00:00:00Z   54   MARIA ORTIZ            0             0   \n",
       "\n",
       "        Diabetes  Alcoholism  Handcap  SMS_received No-show  \n",
       "110534         0           0        0             1      No  \n",
       "110535         0           0        0             1      No  \n",
       "110536         0           0        0             1      No  \n",
       "110537         0           0        0             1      No  \n",
       "110538         0           0        0             1      No  "
      ]
     },
     "execution_count": 135,
     "metadata": {},
     "output_type": "execute_result"
    }
   ],
   "source": [
    "df.tail()"
   ]
  },
  {
   "cell_type": "code",
   "execution_count": 136,
   "metadata": {},
   "outputs": [
    {
     "data": {
      "text/plain": [
       "(110539, 14)"
      ]
     },
     "execution_count": 136,
     "metadata": {},
     "output_type": "execute_result"
    }
   ],
   "source": [
    "df.shape"
   ]
  },
  {
   "cell_type": "code",
   "execution_count": 137,
   "metadata": {},
   "outputs": [
    {
     "name": "stdout",
     "output_type": "stream",
     "text": [
      "<class 'pandas.core.frame.DataFrame'>\n",
      "RangeIndex: 110539 entries, 0 to 110538\n",
      "Data columns (total 14 columns):\n",
      "PatientId         110539 non-null float64\n",
      "AppointmentID     110539 non-null int64\n",
      "Gender            110539 non-null object\n",
      "ScheduledDay      110539 non-null object\n",
      "AppointmentDay    110539 non-null object\n",
      "Age               110539 non-null int64\n",
      "Neighbourhood     110539 non-null object\n",
      "Scholarship       110539 non-null int64\n",
      "Hipertension      110539 non-null int64\n",
      "Diabetes          110539 non-null int64\n",
      "Alcoholism        110539 non-null int64\n",
      "Handcap           110539 non-null int64\n",
      "SMS_received      110539 non-null int64\n",
      "No-show           110535 non-null object\n",
      "dtypes: float64(1), int64(8), object(5)\n",
      "memory usage: 11.8+ MB\n"
     ]
    }
   ],
   "source": [
    "df.info()"
   ]
  },
  {
   "cell_type": "code",
   "execution_count": 138,
   "metadata": {},
   "outputs": [
    {
     "data": {
      "text/html": [
       "<div>\n",
       "<style scoped>\n",
       "    .dataframe tbody tr th:only-of-type {\n",
       "        vertical-align: middle;\n",
       "    }\n",
       "\n",
       "    .dataframe tbody tr th {\n",
       "        vertical-align: top;\n",
       "    }\n",
       "\n",
       "    .dataframe thead th {\n",
       "        text-align: right;\n",
       "    }\n",
       "</style>\n",
       "<table border=\"1\" class=\"dataframe\">\n",
       "  <thead>\n",
       "    <tr style=\"text-align: right;\">\n",
       "      <th></th>\n",
       "      <th>PatientId</th>\n",
       "      <th>AppointmentID</th>\n",
       "      <th>Age</th>\n",
       "      <th>Scholarship</th>\n",
       "      <th>Hipertension</th>\n",
       "      <th>Diabetes</th>\n",
       "      <th>Alcoholism</th>\n",
       "      <th>Handcap</th>\n",
       "      <th>SMS_received</th>\n",
       "    </tr>\n",
       "  </thead>\n",
       "  <tbody>\n",
       "    <tr>\n",
       "      <th>count</th>\n",
       "      <td>1.105390e+05</td>\n",
       "      <td>1.105390e+05</td>\n",
       "      <td>110539.000000</td>\n",
       "      <td>110539.000000</td>\n",
       "      <td>110539.000000</td>\n",
       "      <td>110539.000000</td>\n",
       "      <td>110539.000000</td>\n",
       "      <td>110539.000000</td>\n",
       "      <td>110539.000000</td>\n",
       "    </tr>\n",
       "    <tr>\n",
       "      <th>mean</th>\n",
       "      <td>1.474895e+14</td>\n",
       "      <td>5.675303e+06</td>\n",
       "      <td>37.088059</td>\n",
       "      <td>0.098255</td>\n",
       "      <td>0.197252</td>\n",
       "      <td>0.071866</td>\n",
       "      <td>0.030415</td>\n",
       "      <td>0.022246</td>\n",
       "      <td>0.321018</td>\n",
       "    </tr>\n",
       "    <tr>\n",
       "      <th>std</th>\n",
       "      <td>2.560877e+14</td>\n",
       "      <td>7.129480e+04</td>\n",
       "      <td>23.110107</td>\n",
       "      <td>0.297660</td>\n",
       "      <td>0.397926</td>\n",
       "      <td>0.258267</td>\n",
       "      <td>0.171726</td>\n",
       "      <td>0.161534</td>\n",
       "      <td>0.466870</td>\n",
       "    </tr>\n",
       "    <tr>\n",
       "      <th>min</th>\n",
       "      <td>3.921784e+04</td>\n",
       "      <td>5.030230e+06</td>\n",
       "      <td>-1.000000</td>\n",
       "      <td>0.000000</td>\n",
       "      <td>0.000000</td>\n",
       "      <td>0.000000</td>\n",
       "      <td>0.000000</td>\n",
       "      <td>0.000000</td>\n",
       "      <td>0.000000</td>\n",
       "    </tr>\n",
       "    <tr>\n",
       "      <th>25%</th>\n",
       "      <td>4.172877e+12</td>\n",
       "      <td>5.640284e+06</td>\n",
       "      <td>18.000000</td>\n",
       "      <td>0.000000</td>\n",
       "      <td>0.000000</td>\n",
       "      <td>0.000000</td>\n",
       "      <td>0.000000</td>\n",
       "      <td>0.000000</td>\n",
       "      <td>0.000000</td>\n",
       "    </tr>\n",
       "    <tr>\n",
       "      <th>50%</th>\n",
       "      <td>3.172598e+13</td>\n",
       "      <td>5.680569e+06</td>\n",
       "      <td>37.000000</td>\n",
       "      <td>0.000000</td>\n",
       "      <td>0.000000</td>\n",
       "      <td>0.000000</td>\n",
       "      <td>0.000000</td>\n",
       "      <td>0.000000</td>\n",
       "      <td>0.000000</td>\n",
       "    </tr>\n",
       "    <tr>\n",
       "      <th>75%</th>\n",
       "      <td>9.438963e+13</td>\n",
       "      <td>5.725522e+06</td>\n",
       "      <td>55.000000</td>\n",
       "      <td>0.000000</td>\n",
       "      <td>0.000000</td>\n",
       "      <td>0.000000</td>\n",
       "      <td>0.000000</td>\n",
       "      <td>0.000000</td>\n",
       "      <td>1.000000</td>\n",
       "    </tr>\n",
       "    <tr>\n",
       "      <th>max</th>\n",
       "      <td>9.999816e+14</td>\n",
       "      <td>5.790484e+06</td>\n",
       "      <td>115.000000</td>\n",
       "      <td>1.000000</td>\n",
       "      <td>1.000000</td>\n",
       "      <td>1.000000</td>\n",
       "      <td>1.000000</td>\n",
       "      <td>4.000000</td>\n",
       "      <td>1.000000</td>\n",
       "    </tr>\n",
       "  </tbody>\n",
       "</table>\n",
       "</div>"
      ],
      "text/plain": [
       "          PatientId  AppointmentID            Age    Scholarship  \\\n",
       "count  1.105390e+05   1.105390e+05  110539.000000  110539.000000   \n",
       "mean   1.474895e+14   5.675303e+06      37.088059       0.098255   \n",
       "std    2.560877e+14   7.129480e+04      23.110107       0.297660   \n",
       "min    3.921784e+04   5.030230e+06      -1.000000       0.000000   \n",
       "25%    4.172877e+12   5.640284e+06      18.000000       0.000000   \n",
       "50%    3.172598e+13   5.680569e+06      37.000000       0.000000   \n",
       "75%    9.438963e+13   5.725522e+06      55.000000       0.000000   \n",
       "max    9.999816e+14   5.790484e+06     115.000000       1.000000   \n",
       "\n",
       "        Hipertension       Diabetes     Alcoholism        Handcap  \\\n",
       "count  110539.000000  110539.000000  110539.000000  110539.000000   \n",
       "mean        0.197252       0.071866       0.030415       0.022246   \n",
       "std         0.397926       0.258267       0.171726       0.161534   \n",
       "min         0.000000       0.000000       0.000000       0.000000   \n",
       "25%         0.000000       0.000000       0.000000       0.000000   \n",
       "50%         0.000000       0.000000       0.000000       0.000000   \n",
       "75%         0.000000       0.000000       0.000000       0.000000   \n",
       "max         1.000000       1.000000       1.000000       4.000000   \n",
       "\n",
       "        SMS_received  \n",
       "count  110539.000000  \n",
       "mean        0.321018  \n",
       "std         0.466870  \n",
       "min         0.000000  \n",
       "25%         0.000000  \n",
       "50%         0.000000  \n",
       "75%         1.000000  \n",
       "max         1.000000  "
      ]
     },
     "execution_count": 138,
     "metadata": {},
     "output_type": "execute_result"
    }
   ],
   "source": [
    "df.describe()"
   ]
  },
  {
   "cell_type": "code",
   "execution_count": 139,
   "metadata": {},
   "outputs": [
    {
     "data": {
      "text/plain": [
       "PatientId         0\n",
       "AppointmentID     0\n",
       "Gender            0\n",
       "ScheduledDay      0\n",
       "AppointmentDay    0\n",
       "Age               0\n",
       "Neighbourhood     0\n",
       "Scholarship       0\n",
       "Hipertension      0\n",
       "Diabetes          0\n",
       "Alcoholism        0\n",
       "Handcap           0\n",
       "SMS_received      0\n",
       "No-show           4\n",
       "dtype: int64"
      ]
     },
     "execution_count": 139,
     "metadata": {},
     "output_type": "execute_result"
    }
   ],
   "source": [
    "df.isna().sum()"
   ]
  },
  {
   "cell_type": "code",
   "execution_count": 140,
   "metadata": {},
   "outputs": [
    {
     "data": {
      "text/plain": [
       "8"
      ]
     },
     "execution_count": 140,
     "metadata": {},
     "output_type": "execute_result"
    }
   ],
   "source": [
    "df.duplicated().sum()"
   ]
  },
  {
   "cell_type": "markdown",
   "metadata": {},
   "source": [
    "#### Assessing of concrete variables"
   ]
  },
  {
   "cell_type": "code",
   "execution_count": 141,
   "metadata": {},
   "outputs": [
    {
     "data": {
      "text/plain": [
       "Gender\n",
       "F    71841\n",
       "M    38698\n",
       "Name: AppointmentID, dtype: int64"
      ]
     },
     "execution_count": 141,
     "metadata": {},
     "output_type": "execute_result"
    }
   ],
   "source": [
    "df.groupby('Gender')['AppointmentID'].count()"
   ]
  },
  {
   "cell_type": "code",
   "execution_count": 142,
   "metadata": {},
   "outputs": [
    {
     "name": "stdout",
     "output_type": "stream",
     "text": [
      "2015-11-10T07:13:56Z\n",
      "2016-06-08T20:07:23Z\n"
     ]
    }
   ],
   "source": [
    "print(df['ScheduledDay'].min())\n",
    "print(df['ScheduledDay'].max())"
   ]
  },
  {
   "cell_type": "code",
   "execution_count": 143,
   "metadata": {},
   "outputs": [
    {
     "name": "stdout",
     "output_type": "stream",
     "text": [
      "2016-04-29T00:00:00Z\n",
      "2016-06-08T00:00:00Z\n"
     ]
    }
   ],
   "source": [
    "print(df['AppointmentDay'].min())\n",
    "print(df['AppointmentDay'].max())"
   ]
  },
  {
   "cell_type": "code",
   "execution_count": 144,
   "metadata": {},
   "outputs": [
    {
     "data": {
      "image/png": "[encoded data removed]",
      "text/plain": [
       "<Figure size 432x288 with 1 Axes>"
      ]
     },
     "metadata": {
      "needs_background": "light"
     },
     "output_type": "display_data"
    }
   ],
   "source": [
    "#Age disbribution overview\n",
    "df['Age'].hist()\n",
    "plt.title('Distribution of Patients Age');\n",
    "plt.xlabel('Age')\n",
    "plt.ylabel('Number of patients');"
   ]
  },
  {
   "cell_type": "code",
   "execution_count": 145,
   "metadata": {},
   "outputs": [
    {
     "data": {
      "text/plain": [
       "No     0.798035\n",
       "Yes    0.201929\n",
       "Name: No-show, dtype: float64"
      ]
     },
     "execution_count": 145,
     "metadata": {},
     "output_type": "execute_result"
    }
   ],
   "source": [
    "df['No-show'].value_counts()/df.shape[0]"
   ]
  },
  {
   "cell_type": "code",
   "execution_count": 146,
   "metadata": {},
   "outputs": [
    {
     "data": {
      "text/plain": [
       "JARDIM CAMBURI                 7717\n",
       "MARIA ORTIZ                    5805\n",
       "RESISTÊNCIA                    4431\n",
       "JARDIM DA PENHA                3878\n",
       "ITARARÉ                        3514\n",
       "CENTRO                         3334\n",
       "SANTA MARTHA                   3132\n",
       "TABUAZEIRO                     3132\n",
       "JESUS DE NAZARETH              2853\n",
       "BONFIM                         2773\n",
       "SANTO ANTÔNIO                  2746\n",
       "SANTO ANDRÉ                    2571\n",
       "CARATOÍRA                      2565\n",
       "JABOUR                         2509\n",
       "SÃO PEDRO                      2448\n",
       "ILHA DO PRÍNCIPE               2266\n",
       "NOVA PALESTINA                 2264\n",
       "ANDORINHAS                     2262\n",
       "DA PENHA                       2218\n",
       "ROMÃO                          2215\n",
       "GURIGICA                       2018\n",
       "SÃO JOSÉ                       1978\n",
       "BELA VISTA                     1907\n",
       "MARUÍPE                        1902\n",
       "FORTE SÃO JOÃO                 1889\n",
       "ILHA DE SANTA MARIA            1885\n",
       "SÃO CRISTÓVÃO                  1837\n",
       "REDENÇÃO                       1554\n",
       "SÃO BENEDITO                   1439\n",
       "JOANA D´ARC                    1427\n",
       "                               ... \n",
       "SANTOS REIS                     547\n",
       "ESTRELINHA                      538\n",
       "SANTA CLARA                     506\n",
       "SOLON BORGES                    469\n",
       "PIEDADE                         452\n",
       "SANTA CECÍLIA                   448\n",
       "SANTA LÚCIA                     438\n",
       "SANTA LUÍZA                     428\n",
       "BARRO VERMELHO                  423\n",
       "DO MOSCOSO                      413\n",
       "MÁRIO CYPRESTE                  371\n",
       "BOA VISTA                       312\n",
       "COMDUSA                         310\n",
       "DE LOURDES                      305\n",
       "ARIOVALDO FAVALESSA             282\n",
       "ANTÔNIO HONÓRIO                 271\n",
       "FRADINHOS                       258\n",
       "ENSEADA DO SUÁ                  235\n",
       "SANTA HELENA                    178\n",
       "HORTO                           175\n",
       "UNIVERSITÁRIO                   152\n",
       "SEGURANÇA DO LAR                145\n",
       "NAZARETH                        135\n",
       "MORADA DE CAMBURI                96\n",
       "PONTAL DE CAMBURI                69\n",
       "ILHA DO BOI                      35\n",
       "ILHA DO FRADE                    10\n",
       "AEROPORTO                         8\n",
       "ILHAS OCEÂNICAS DE TRINDADE       2\n",
       "PARQUE INDUSTRIAL                 1\n",
       "Name: Neighbourhood, Length: 81, dtype: int64"
      ]
     },
     "execution_count": 146,
     "metadata": {},
     "output_type": "execute_result"
    }
   ],
   "source": [
    "df['Neighbourhood'].value_counts()"
   ]
  },
  {
   "cell_type": "markdown",
   "metadata": {},
   "source": [
    "<a id='cleaning'></a>\n",
    "### Cleaning"
   ]
  },
  {
   "cell_type": "markdown",
   "metadata": {},
   "source": [
    "#### Define"
   ]
  },
  {
   "cell_type": "markdown",
   "metadata": {},
   "source": [
    "Drop duplicated registers"
   ]
  },
  {
   "cell_type": "markdown",
   "metadata": {},
   "source": [
    "#### Code"
   ]
  },
  {
   "cell_type": "code",
   "execution_count": 147,
   "metadata": {},
   "outputs": [
    {
     "data": {
      "text/plain": [
       "8"
      ]
     },
     "execution_count": 147,
     "metadata": {},
     "output_type": "execute_result"
    }
   ],
   "source": [
    "df.duplicated().sum()"
   ]
  },
  {
   "cell_type": "code",
   "execution_count": 148,
   "metadata": {},
   "outputs": [],
   "source": [
    "df.drop_duplicates(inplace=True)"
   ]
  },
  {
   "cell_type": "markdown",
   "metadata": {},
   "source": [
    "#### Test"
   ]
  },
  {
   "cell_type": "code",
   "execution_count": 149,
   "metadata": {},
   "outputs": [
    {
     "data": {
      "text/plain": [
       "0"
      ]
     },
     "execution_count": 149,
     "metadata": {},
     "output_type": "execute_result"
    }
   ],
   "source": [
    "df.duplicated().sum()"
   ]
  },
  {
   "cell_type": "markdown",
   "metadata": {},
   "source": [
    "#### Define"
   ]
  },
  {
   "cell_type": "markdown",
   "metadata": {},
   "source": [
    "Drop registers whose response variable (No-show) is Null"
   ]
  },
  {
   "cell_type": "markdown",
   "metadata": {},
   "source": [
    "#### Code"
   ]
  },
  {
   "cell_type": "code",
   "execution_count": 150,
   "metadata": {},
   "outputs": [
    {
     "data": {
      "text/plain": [
       "4"
      ]
     },
     "execution_count": 150,
     "metadata": {},
     "output_type": "execute_result"
    }
   ],
   "source": [
    "df['No-show'].isna().sum()"
   ]
  },
  {
   "cell_type": "code",
   "execution_count": 151,
   "metadata": {},
   "outputs": [],
   "source": [
    "df=df[df['No-show'].isna()==False]"
   ]
  },
  {
   "cell_type": "markdown",
   "metadata": {},
   "source": [
    "#### Test"
   ]
  },
  {
   "cell_type": "code",
   "execution_count": 152,
   "metadata": {},
   "outputs": [
    {
     "data": {
      "text/plain": [
       "0"
      ]
     },
     "execution_count": 152,
     "metadata": {},
     "output_type": "execute_result"
    }
   ],
   "source": [
    "df['No-show'].isna().sum()"
   ]
  },
  {
   "cell_type": "code",
   "execution_count": 153,
   "metadata": {},
   "outputs": [
    {
     "data": {
      "text/plain": [
       "(110527, 14)"
      ]
     },
     "execution_count": 153,
     "metadata": {},
     "output_type": "execute_result"
    }
   ],
   "source": [
    "df.shape"
   ]
  },
  {
   "cell_type": "code",
   "execution_count": 154,
   "metadata": {},
   "outputs": [
    {
     "data": {
      "text/plain": [
       "No     88208\n",
       "Yes    22319\n",
       "Name: No-show, dtype: int64"
      ]
     },
     "execution_count": 154,
     "metadata": {},
     "output_type": "execute_result"
    }
   ],
   "source": [
    "df['No-show'].value_counts()"
   ]
  },
  {
   "cell_type": "markdown",
   "metadata": {},
   "source": [
    "#### Define"
   ]
  },
  {
   "cell_type": "markdown",
   "metadata": {},
   "source": [
    "Format No-show variable with Yes=1 and No=0 values and convert it to number"
   ]
  },
  {
   "cell_type": "markdown",
   "metadata": {},
   "source": [
    "#### Code"
   ]
  },
  {
   "cell_type": "code",
   "execution_count": 155,
   "metadata": {},
   "outputs": [],
   "source": [
    "df.loc[df['No-show'] == 'No','No-show'] = 0\n",
    "df.loc[df['No-show'] == 'Yes','No-show'] = 1"
   ]
  },
  {
   "cell_type": "code",
   "execution_count": 157,
   "metadata": {},
   "outputs": [],
   "source": [
    "df['No-show']=df['No-show'].astype(int)"
   ]
  },
  {
   "cell_type": "markdown",
   "metadata": {},
   "source": [
    "#### Test"
   ]
  },
  {
   "cell_type": "code",
   "execution_count": 158,
   "metadata": {},
   "outputs": [
    {
     "data": {
      "text/plain": [
       "0    88208\n",
       "1    22319\n",
       "Name: No-show, dtype: int64"
      ]
     },
     "execution_count": 158,
     "metadata": {},
     "output_type": "execute_result"
    }
   ],
   "source": [
    "df['No-show'].value_counts()"
   ]
  },
  {
   "cell_type": "markdown",
   "metadata": {},
   "source": [
    "#### Define"
   ]
  },
  {
   "cell_type": "markdown",
   "metadata": {},
   "source": [
    "Conver to datetime the ScheduledDay and AppointmentDay columns."
   ]
  },
  {
   "cell_type": "markdown",
   "metadata": {},
   "source": [
    "#### Code"
   ]
  },
  {
   "cell_type": "code",
   "execution_count": 159,
   "metadata": {},
   "outputs": [],
   "source": [
    "df['ScheduledDay'] = pd.to_datetime(df['ScheduledDay'])\n",
    "df['AppointmentDay'] = pd.to_datetime(df['AppointmentDay'])"
   ]
  },
  {
   "cell_type": "markdown",
   "metadata": {},
   "source": [
    "#### Test"
   ]
  },
  {
   "cell_type": "code",
   "execution_count": 160,
   "metadata": {},
   "outputs": [
    {
     "name": "stdout",
     "output_type": "stream",
     "text": [
      "<class 'pandas.core.frame.DataFrame'>\n",
      "Int64Index: 110527 entries, 0 to 110538\n",
      "Data columns (total 14 columns):\n",
      "PatientId         110527 non-null float64\n",
      "AppointmentID     110527 non-null int64\n",
      "Gender            110527 non-null object\n",
      "ScheduledDay      110527 non-null datetime64[ns]\n",
      "AppointmentDay    110527 non-null datetime64[ns]\n",
      "Age               110527 non-null int64\n",
      "Neighbourhood     110527 non-null object\n",
      "Scholarship       110527 non-null int64\n",
      "Hipertension      110527 non-null int64\n",
      "Diabetes          110527 non-null int64\n",
      "Alcoholism        110527 non-null int64\n",
      "Handcap           110527 non-null int64\n",
      "SMS_received      110527 non-null int64\n",
      "No-show           110527 non-null int32\n",
      "dtypes: datetime64[ns](2), float64(1), int32(1), int64(8), object(2)\n",
      "memory usage: 12.2+ MB\n"
     ]
    }
   ],
   "source": [
    "df.info()"
   ]
  },
  {
   "cell_type": "code",
   "execution_count": 161,
   "metadata": {},
   "outputs": [
    {
     "name": "stdout",
     "output_type": "stream",
     "text": [
      "2015-11-10 07:13:56\n",
      "2016-06-08 20:07:23\n"
     ]
    }
   ],
   "source": [
    "print(df['ScheduledDay'].min())\n",
    "print(df['ScheduledDay'].max())"
   ]
  },
  {
   "cell_type": "code",
   "execution_count": 162,
   "metadata": {},
   "outputs": [
    {
     "name": "stdout",
     "output_type": "stream",
     "text": [
      "2016-04-29 00:00:00\n",
      "2016-06-08 00:00:00\n"
     ]
    }
   ],
   "source": [
    "print(df['AppointmentDay'].min())\n",
    "print(df['AppointmentDay'].max())"
   ]
  },
  {
   "cell_type": "markdown",
   "metadata": {},
   "source": [
    "#### Define"
   ]
  },
  {
   "cell_type": "markdown",
   "metadata": {},
   "source": [
    "Drop registers whose Scheduled day is later than the Appointment day. These registers are wrong and might distort the analysis"
   ]
  },
  {
   "cell_type": "markdown",
   "metadata": {},
   "source": [
    "#### Code"
   ]
  },
  {
   "cell_type": "code",
   "execution_count": 163,
   "metadata": {},
   "outputs": [],
   "source": [
    "df['diff_App_Sch_Day']=df['AppointmentDay'].dt.date-df['ScheduledDay'].dt.date"
   ]
  },
  {
   "cell_type": "code",
   "execution_count": 164,
   "metadata": {},
   "outputs": [],
   "source": [
    "df['diff_App_Sch_Day']=df['diff_App_Sch_Day']/np.timedelta64(1,'D')"
   ]
  },
  {
   "cell_type": "code",
   "execution_count": 165,
   "metadata": {},
   "outputs": [],
   "source": [
    "df=df[df['diff_App_Sch_Day']>=0]"
   ]
  },
  {
   "cell_type": "markdown",
   "metadata": {},
   "source": [
    "#### Test"
   ]
  },
  {
   "cell_type": "code",
   "execution_count": 166,
   "metadata": {},
   "outputs": [
    {
     "data": {
      "text/plain": [
       "0.0"
      ]
     },
     "execution_count": 166,
     "metadata": {},
     "output_type": "execute_result"
    }
   ],
   "source": [
    "df['diff_App_Sch_Day'].min()"
   ]
  },
  {
   "cell_type": "markdown",
   "metadata": {},
   "source": [
    "#### Define"
   ]
  },
  {
   "cell_type": "markdown",
   "metadata": {},
   "source": [
    "Drop registers with Age < 0"
   ]
  },
  {
   "cell_type": "markdown",
   "metadata": {},
   "source": [
    "#### Code"
   ]
  },
  {
   "cell_type": "code",
   "execution_count": 167,
   "metadata": {},
   "outputs": [
    {
     "data": {
      "text/plain": [
       "1"
      ]
     },
     "execution_count": 167,
     "metadata": {},
     "output_type": "execute_result"
    }
   ],
   "source": [
    "(df['Age']<0).sum()"
   ]
  },
  {
   "cell_type": "code",
   "execution_count": 168,
   "metadata": {},
   "outputs": [],
   "source": [
    "df=df[df['Age']>=0]"
   ]
  },
  {
   "cell_type": "markdown",
   "metadata": {},
   "source": [
    "#### Test"
   ]
  },
  {
   "cell_type": "code",
   "execution_count": 169,
   "metadata": {},
   "outputs": [
    {
     "data": {
      "text/plain": [
       "0"
      ]
     },
     "execution_count": 169,
     "metadata": {},
     "output_type": "execute_result"
    }
   ],
   "source": [
    "(df['Age']<0).sum()"
   ]
  },
  {
   "cell_type": "markdown",
   "metadata": {},
   "source": [
    "<a id='da'></a>\n",
    "## Data Analysis\n",
    "## How can we increase the attendance rate?"
   ]
  },
  {
   "cell_type": "code",
   "execution_count": 171,
   "metadata": {},
   "outputs": [
    {
     "name": "stdout",
     "output_type": "stream",
     "text": [
      "<class 'pandas.core.frame.DataFrame'>\n",
      "Int64Index: 110521 entries, 0 to 110538\n",
      "Data columns (total 15 columns):\n",
      "PatientId           110521 non-null float64\n",
      "AppointmentID       110521 non-null int64\n",
      "Gender              110521 non-null object\n",
      "ScheduledDay        110521 non-null datetime64[ns]\n",
      "AppointmentDay      110521 non-null datetime64[ns]\n",
      "Age                 110521 non-null int64\n",
      "Neighbourhood       110521 non-null object\n",
      "Scholarship         110521 non-null int64\n",
      "Hipertension        110521 non-null int64\n",
      "Diabetes            110521 non-null int64\n",
      "Alcoholism          110521 non-null int64\n",
      "Handcap             110521 non-null int64\n",
      "SMS_received        110521 non-null int64\n",
      "No-show             110521 non-null int32\n",
      "diff_App_Sch_Day    110521 non-null float64\n",
      "dtypes: datetime64[ns](2), float64(2), int32(1), int64(8), object(2)\n",
      "memory usage: 13.1+ MB\n"
     ]
    }
   ],
   "source": [
    "df.info()"
   ]
  },
  {
   "cell_type": "markdown",
   "metadata": {},
   "source": [
    "### Does the time between the Scheduled day and the Appointment day impact on the attendance rate?"
   ]
  },
  {
   "cell_type": "code",
   "execution_count": 172,
   "metadata": {},
   "outputs": [
    {
     "data": {
      "text/plain": [
       "No-show\n",
       "0     8.754759\n",
       "1    15.835484\n",
       "Name: diff_App_Sch_Day, dtype: float64"
      ]
     },
     "execution_count": 172,
     "metadata": {},
     "output_type": "execute_result"
    }
   ],
   "source": [
    "#Average days for each No-show value\n",
    "df.groupby('No-show')['diff_App_Sch_Day'].mean()"
   ]
  },
  {
   "cell_type": "code",
   "execution_count": 173,
   "metadata": {},
   "outputs": [
    {
     "data": {
      "text/plain": [
       "<seaborn.axisgrid.FacetGrid at 0x1c09fd95dd8>"
      ]
     },
     "execution_count": 173,
     "metadata": {},
     "output_type": "execute_result"
    },
    {
     "data": {
      "image/png": "[encoded data removed]",
      "text/plain": [
       "<Figure size 360x360 with 1 Axes>"
      ]
     },
     "metadata": {
      "needs_background": "light"
     },
     "output_type": "display_data"
    }
   ],
   "source": [
    "#Both No-show values are shown in a histogram\n",
    "bins_n = 20\n",
    "g = sb.FacetGrid(data=df,hue='No-show',height=5)\n",
    "g.map(plt.hist,'diff_App_Sch_Day',bins=bins_n, alpha=0.6)"
   ]
  },
  {
   "cell_type": "markdown",
   "metadata": {},
   "source": [
    "#### Conclusion:\n",
    "Patients that did not show up booked the appointment 1 week, on average, earlier than patients that showed up."
   ]
  },
  {
   "cell_type": "markdown",
   "metadata": {},
   "source": [
    "### Does the patients' age have an effect on the attendance rate?"
   ]
  },
  {
   "cell_type": "code",
   "execution_count": 175,
   "metadata": {},
   "outputs": [],
   "source": [
    "#Age range is created\n",
    "df['Age_Range']='0-9'\n",
    "df.loc[df['Age']>=10,'Age_Range'] = '10-19'\n",
    "df.loc[df['Age']>=20,'Age_Range'] = '20-29'\n",
    "df.loc[df['Age']>=30,'Age_Range'] = '30-39'\n",
    "df.loc[df['Age']>=40,'Age_Range'] = '40-49'\n",
    "df.loc[df['Age']>=50,'Age_Range'] = '50-59'\n",
    "df.loc[df['Age']>=60,'Age_Range'] = '60-69'\n",
    "df.loc[df['Age']>=70,'Age_Range'] = '70-79'\n",
    "df.loc[df['Age']>=80,'Age_Range'] = '>=80'"
   ]
  },
  {
   "cell_type": "code",
   "execution_count": 176,
   "metadata": {},
   "outputs": [
    {
     "data": {
      "text/plain": [
       "Age_Range\n",
       "0-9      0.199325\n",
       "10-19    0.251720\n",
       "20-29    0.246678\n",
       "30-39    0.217469\n",
       "40-49    0.202688\n",
       "50-59    0.174998\n",
       "60-69    0.150724\n",
       "70-79    0.152005\n",
       ">=80     0.163296\n",
       "Name: No-show, dtype: float64"
      ]
     },
     "execution_count": 176,
     "metadata": {},
     "output_type": "execute_result"
    }
   ],
   "source": [
    "#No-show mean is calculated\n",
    "Age_Range_App = df.groupby('Age_Range')['No-show'].mean()\n",
    "Age_Range_App"
   ]
  },
  {
   "cell_type": "code",
   "execution_count": 190,
   "metadata": {},
   "outputs": [
    {
     "data": {
      "text/plain": [
       "Text(0,0.5,'No-show average')"
      ]
     },
     "execution_count": 190,
     "metadata": {},
     "output_type": "execute_result"
    },
    {
     "data": {
      "image/png": "[encoded data removed]",
      "text/plain": [
       "<Figure size 432x288 with 1 Axes>"
      ]
     },
     "metadata": {
      "needs_background": "light"
     },
     "output_type": "display_data"
    }
   ],
   "source": [
    "#Proportion of patiens not showing up is represented in a bar chart\n",
    "\n",
    "#set the locations according to how we want to show the data\n",
    "locations=np.arange(len(Age_Range_App))\n",
    "\n",
    "#labels are created\n",
    "labels = Age_Range_App.index\n",
    "\n",
    "#figure properties are defined\n",
    "plt.bar(locations,Age_Range_App,tick_label=labels)\n",
    "plt.title('Proportion of patients not showing up at the medical appointment by age')\n",
    "plt.xlabel('Patients Age')\n",
    "plt.ylabel('No-show average')\n",
    "#plt.ylim(bottom=5.5,top=6.5);"
   ]
  },
  {
   "cell_type": "markdown",
   "metadata": {},
   "source": [
    "### Does the patients' neighbourhood impact on the attendance rate?"
   ]
  },
  {
   "cell_type": "code",
   "execution_count": 178,
   "metadata": {},
   "outputs": [],
   "source": [
    "#No-show mean is calculated by neighbourhood\n",
    "Neigh_NoShow = df.groupby('Neighbourhood')['No-show'].mean()"
   ]
  },
  {
   "cell_type": "code",
   "execution_count": 179,
   "metadata": {},
   "outputs": [],
   "source": [
    "#Appointment count percentage is calculated by neighbourhood\n",
    "Neigh_CountWeight = df.groupby('Neighbourhood')['AppointmentID'].count()/df.shape[0]"
   ]
  },
  {
   "cell_type": "code",
   "execution_count": 180,
   "metadata": {},
   "outputs": [],
   "source": [
    "#Index is reset\n",
    "Neigh_NoShow=Neigh_NoShow.reset_index()\n",
    "Neigh_CountWeight=Neigh_CountWeight.reset_index()"
   ]
  },
  {
   "cell_type": "code",
   "execution_count": 185,
   "metadata": {},
   "outputs": [
    {
     "data": {
      "text/html": [
       "<div>\n",
       "<style scoped>\n",
       "    .dataframe tbody tr th:only-of-type {\n",
       "        vertical-align: middle;\n",
       "    }\n",
       "\n",
       "    .dataframe tbody tr th {\n",
       "        vertical-align: top;\n",
       "    }\n",
       "\n",
       "    .dataframe thead th {\n",
       "        text-align: right;\n",
       "    }\n",
       "</style>\n",
       "<table border=\"1\" class=\"dataframe\">\n",
       "  <thead>\n",
       "    <tr style=\"text-align: right;\">\n",
       "      <th></th>\n",
       "      <th>Neighbourhood</th>\n",
       "      <th>AppointCount_Weight</th>\n",
       "      <th>No-show_Weight</th>\n",
       "    </tr>\n",
       "  </thead>\n",
       "  <tbody>\n",
       "    <tr>\n",
       "      <th>0</th>\n",
       "      <td>AEROPORTO</td>\n",
       "      <td>0.000072</td>\n",
       "      <td>0.125000</td>\n",
       "    </tr>\n",
       "    <tr>\n",
       "      <th>1</th>\n",
       "      <td>ANDORINHAS</td>\n",
       "      <td>0.020467</td>\n",
       "      <td>0.230327</td>\n",
       "    </tr>\n",
       "    <tr>\n",
       "      <th>2</th>\n",
       "      <td>ANTÔNIO HONÓRIO</td>\n",
       "      <td>0.002452</td>\n",
       "      <td>0.184502</td>\n",
       "    </tr>\n",
       "    <tr>\n",
       "      <th>3</th>\n",
       "      <td>ARIOVALDO FAVALESSA</td>\n",
       "      <td>0.002552</td>\n",
       "      <td>0.219858</td>\n",
       "    </tr>\n",
       "    <tr>\n",
       "      <th>4</th>\n",
       "      <td>BARRO VERMELHO</td>\n",
       "      <td>0.003827</td>\n",
       "      <td>0.215130</td>\n",
       "    </tr>\n",
       "  </tbody>\n",
       "</table>\n",
       "</div>"
      ],
      "text/plain": [
       "         Neighbourhood  AppointCount_Weight  No-show_Weight\n",
       "0            AEROPORTO             0.000072        0.125000\n",
       "1           ANDORINHAS             0.020467        0.230327\n",
       "2      ANTÔNIO HONÓRIO             0.002452        0.184502\n",
       "3  ARIOVALDO FAVALESSA             0.002552        0.219858\n",
       "4       BARRO VERMELHO             0.003827        0.215130"
      ]
     },
     "execution_count": 185,
     "metadata": {},
     "output_type": "execute_result"
    }
   ],
   "source": [
    "#Both dataframes are merged and columns renamed\n",
    "Neighbourhood_Stats = Neigh_CountWeight.merge(Neigh_NoShow)\n",
    "Neighbourhood_Stats=Neighbourhood_Stats.rename(columns={\"AppointmentID\":\"AppointCount_Weight\",\"No-show\":\"No-show_Weight\"})\n",
    "Neighbourhood_Stats.head()"
   ]
  },
  {
   "cell_type": "code",
   "execution_count": 188,
   "metadata": {},
   "outputs": [
    {
     "data": {
      "text/plain": [
       "<matplotlib.collections.PathCollection at 0x1c09ffe38d0>"
      ]
     },
     "execution_count": 188,
     "metadata": {},
     "output_type": "execute_result"
    },
    {
     "data": {
      "image/png": "[encoded data removed]",
      "text/plain": [
       "<Figure size 432x288 with 1 Axes>"
      ]
     },
     "metadata": {
      "needs_background": "light"
     },
     "output_type": "display_data"
    }
   ],
   "source": [
    "#Represent both variables in a scatter plot\n",
    "plt.scatter(Neighbourhood_Stats['No-show_Weight'],Neighbourhood_Stats['AppointCount_Weight'])"
   ]
  },
  {
   "cell_type": "code",
   "execution_count": 189,
   "metadata": {},
   "outputs": [
    {
     "data": {
      "image/png": "[encoded data removed]",
      "text/plain": [
       "<Figure size 432x288 with 1 Axes>"
      ]
     },
     "metadata": {
      "needs_background": "light"
     },
     "output_type": "display_data"
    }
   ],
   "source": [
    "#Represent both variables in a scatter plot (zoomed in)\n",
    "plt.scatter(Neighbourhood_Stats['No-show_Weight'],Neighbourhood_Stats['AppointCount_Weight'])\n",
    "plt.xlim([0.1,0.3])\n",
    "plt.ylim([0.01,0.08]);"
   ]
  },
  {
   "cell_type": "markdown",
   "metadata": {},
   "source": [
    "We will do an awareness campaign on 10% of neighbourhoods (=8 neighbourhoods) whose:\n",
    " - number of appointments > median AND\n",
    " - have the highest No-show rate"
   ]
  },
  {
   "cell_type": "code",
   "execution_count": 103,
   "metadata": {},
   "outputs": [],
   "source": [
    "#Select neighbourhoods with number of appointments > median\n",
    "Neigh_mostApp = Neigh[Neigh['AppointmentID']>Neigh['AppointmentID'].median()]"
   ]
  },
  {
   "cell_type": "code",
   "execution_count": 109,
   "metadata": {},
   "outputs": [
    {
     "data": {
      "text/html": [
       "<div>\n",
       "<style scoped>\n",
       "    .dataframe tbody tr th:only-of-type {\n",
       "        vertical-align: middle;\n",
       "    }\n",
       "\n",
       "    .dataframe tbody tr th {\n",
       "        vertical-align: top;\n",
       "    }\n",
       "\n",
       "    .dataframe thead th {\n",
       "        text-align: right;\n",
       "    }\n",
       "</style>\n",
       "<table border=\"1\" class=\"dataframe\">\n",
       "  <thead>\n",
       "    <tr style=\"text-align: right;\">\n",
       "      <th></th>\n",
       "      <th>Neighbourhood</th>\n",
       "      <th>AppointmentID</th>\n",
       "      <th>No-show</th>\n",
       "    </tr>\n",
       "  </thead>\n",
       "  <tbody>\n",
       "    <tr>\n",
       "      <th>34</th>\n",
       "      <td>SANTOS DUMONT</td>\n",
       "      <td>0.011545</td>\n",
       "      <td>0.289185</td>\n",
       "    </tr>\n",
       "    <tr>\n",
       "      <th>4</th>\n",
       "      <td>ITARARÉ</td>\n",
       "      <td>0.031793</td>\n",
       "      <td>0.262664</td>\n",
       "    </tr>\n",
       "    <tr>\n",
       "      <th>8</th>\n",
       "      <td>JESUS DE NAZARETH</td>\n",
       "      <td>0.025813</td>\n",
       "      <td>0.243954</td>\n",
       "    </tr>\n",
       "    <tr>\n",
       "      <th>15</th>\n",
       "      <td>ILHA DO PRÍNCIPE</td>\n",
       "      <td>0.020502</td>\n",
       "      <td>0.234775</td>\n",
       "    </tr>\n",
       "    <tr>\n",
       "      <th>12</th>\n",
       "      <td>CARATOÍRA</td>\n",
       "      <td>0.023207</td>\n",
       "      <td>0.230409</td>\n",
       "    </tr>\n",
       "    <tr>\n",
       "      <th>17</th>\n",
       "      <td>ANDORINHAS</td>\n",
       "      <td>0.020466</td>\n",
       "      <td>0.230327</td>\n",
       "    </tr>\n",
       "    <tr>\n",
       "      <th>33</th>\n",
       "      <td>PRAIA DO SUÁ</td>\n",
       "      <td>0.011653</td>\n",
       "      <td>0.228261</td>\n",
       "    </tr>\n",
       "    <tr>\n",
       "      <th>20</th>\n",
       "      <td>GURIGICA</td>\n",
       "      <td>0.018258</td>\n",
       "      <td>0.225966</td>\n",
       "    </tr>\n",
       "  </tbody>\n",
       "</table>\n",
       "</div>"
      ],
      "text/plain": [
       "        Neighbourhood  AppointmentID   No-show\n",
       "34      SANTOS DUMONT       0.011545  0.289185\n",
       "4             ITARARÉ       0.031793  0.262664\n",
       "8   JESUS DE NAZARETH       0.025813  0.243954\n",
       "15   ILHA DO PRÍNCIPE       0.020502  0.234775\n",
       "12          CARATOÍRA       0.023207  0.230409\n",
       "17         ANDORINHAS       0.020466  0.230327\n",
       "33       PRAIA DO SUÁ       0.011653  0.228261\n",
       "20           GURIGICA       0.018258  0.225966"
      ]
     },
     "execution_count": 109,
     "metadata": {},
     "output_type": "execute_result"
    }
   ],
   "source": [
    "#Select 10% (8 neighbourhoods) with highest No-show rate\n",
    "Neigh_mostApp.sort_values(by=['No-show'],ascending=False).head(8)"
   ]
  },
  {
   "cell_type": "markdown",
   "metadata": {},
   "source": [
    "#### Conclusion:\n",
    "Awareness campaign will be launch in the 8 neighbourhoods of the previous table."
   ]
  },
  {
   "cell_type": "markdown",
   "metadata": {},
   "source": [
    "<a id='da'></a>\n",
    "## Data Analysis (backup)"
   ]
  },
  {
   "cell_type": "markdown",
   "metadata": {},
   "source": [
    "Questions:\n",
    "    1. ¿Tiene impacto en ir/no ir a la cita con cuánta antelación se pida ésta?\n",
    "    2. ¿Tiene impacto en ir/no ir el barrio en el que vive la persona?\n",
    "    3. ¿Podemos predecir si el paciente irá o no irá en función de variables como Gender, Scholarship, Hipertension, Diabetes, Alcoholism, Handcap or SMS_received?\n",
    "    4. Extra: ¿Tiene la edad y sexo impacto?\n",
    "    5. Extra: ¿Tiene el Scholarship impacto?\n",
    "\n",
    "MIRAR QUÉ VARIABLES SE USARON PARA PREDECIR EN LOS VIDEOS DE TEORÍA.\n",
    "VER TAMBIÉN QUE PREGUNTAS TENÍA EL BLOG DEL TUTOR DE TEORÍA."
   ]
  },
  {
   "cell_type": "code",
   "execution_count": 33,
   "metadata": {},
   "outputs": [
    {
     "data": {
      "text/plain": [
       "ILHAS OCEÂNICAS DE TRINDADE    1.000000\n",
       "SANTOS DUMONT                  0.289185\n",
       "SANTA CECÍLIA                  0.274554\n",
       "SANTA CLARA                    0.264822\n",
       "ITARARÉ                        0.262664\n",
       "JESUS DE NAZARETH              0.243954\n",
       "HORTO                          0.240000\n",
       "ILHA DO PRÍNCIPE               0.234775\n",
       "CARATOÍRA                      0.230409\n",
       "ANDORINHAS                     0.230327\n",
       "PRAIA DO SUÁ                   0.228261\n",
       "GURIGICA                       0.225966\n",
       "BENTO FERREIRA                 0.224942\n",
       "PARQUE MOSCOSO                 0.223192\n",
       "MARUÍPE                        0.222923\n",
       "DO MOSCOSO                     0.222760\n",
       "ENSEADA DO SUÁ                 0.221277\n",
       "ARIOVALDO FAVALESSA            0.219858\n",
       "ILHA DAS CAIEIRAS              0.219421\n",
       "FONTE GRANDE                   0.218475\n",
       "CRUZAMENTO                     0.217454\n",
       "SÃO JOSÉ                       0.216490\n",
       "BARRO VERMELHO                 0.215130\n",
       "NAZARETH                       0.214815\n",
       "ROMÃO                          0.214092\n",
       "CENTRO                         0.210858\n",
       "UNIVERSITÁRIO                  0.210526\n",
       "SÃO PEDRO                      0.210376\n",
       "MARIA ORTIZ                    0.209991\n",
       "SANTA HELENA                   0.207865\n",
       "                                 ...   \n",
       "CONQUISTA                      0.188457\n",
       "FRADINHOS                      0.186047\n",
       "BOA VISTA                      0.185897\n",
       "ANTÔNIO HONÓRIO                0.184502\n",
       "PRAIA DO CANTO                 0.183575\n",
       "FORTE SÃO JOÃO                 0.183166\n",
       "TABUAZEIRO                     0.182950\n",
       "JOANA D´ARC                    0.180799\n",
       "COMDUSA                        0.180645\n",
       "SANTA LUÍZA                    0.179907\n",
       "JABOUR                         0.179753\n",
       "NOVA PALESTINA                 0.177562\n",
       "REDENÇÃO                       0.177077\n",
       "SANTO ANTÔNIO                  0.176256\n",
       "PONTAL DE CAMBURI              0.173913\n",
       "CONSOLAÇÃO                     0.172238\n",
       "REPÚBLICA                      0.171257\n",
       "MATA DA PRAIA                  0.170807\n",
       "MORADA DE CAMBURI              0.166667\n",
       "VILA RUBIM                     0.165687\n",
       "DO QUADRO                      0.164900\n",
       "JARDIM DA PENHA                0.162755\n",
       "SANTA MARTHA                   0.158416\n",
       "DO CABRAL                      0.157143\n",
       "DE LOURDES                     0.154098\n",
       "SOLON BORGES                   0.147122\n",
       "MÁRIO CYPRESTE                 0.145553\n",
       "AEROPORTO                      0.125000\n",
       "ILHA DO BOI                    0.085714\n",
       "PARQUE INDUSTRIAL                   NaN\n",
       "Name: Neighbourhood, Length: 81, dtype: float64"
      ]
     },
     "execution_count": 33,
     "metadata": {},
     "output_type": "execute_result"
    }
   ],
   "source": [
    "(df[df['No-show']==\"Yes\"]['Neighbourhood'].value_counts()/df['Neighbourhood'].value_counts()).sort_values(ascending=False)"
   ]
  },
  {
   "cell_type": "code",
   "execution_count": 34,
   "metadata": {},
   "outputs": [
    {
     "data": {
      "text/html": [
       "<div>\n",
       "<style scoped>\n",
       "    .dataframe tbody tr th:only-of-type {\n",
       "        vertical-align: middle;\n",
       "    }\n",
       "\n",
       "    .dataframe tbody tr th {\n",
       "        vertical-align: top;\n",
       "    }\n",
       "\n",
       "    .dataframe thead th {\n",
       "        text-align: right;\n",
       "    }\n",
       "</style>\n",
       "<table border=\"1\" class=\"dataframe\">\n",
       "  <thead>\n",
       "    <tr style=\"text-align: right;\">\n",
       "      <th></th>\n",
       "      <th>PatientId</th>\n",
       "      <th>AppointmentID</th>\n",
       "      <th>Gender</th>\n",
       "      <th>ScheduledDay</th>\n",
       "      <th>AppointmentDay</th>\n",
       "      <th>Age</th>\n",
       "      <th>Neighbourhood</th>\n",
       "      <th>Scholarship</th>\n",
       "      <th>Hipertension</th>\n",
       "      <th>Diabetes</th>\n",
       "      <th>Alcoholism</th>\n",
       "      <th>Handcap</th>\n",
       "      <th>SMS_received</th>\n",
       "      <th>No-show</th>\n",
       "    </tr>\n",
       "  </thead>\n",
       "  <tbody>\n",
       "    <tr>\n",
       "      <th>75207</th>\n",
       "      <td>8.255992e+12</td>\n",
       "      <td>5663947</td>\n",
       "      <td>F</td>\n",
       "      <td>2016-05-05 10:48:59</td>\n",
       "      <td>2016-05-05</td>\n",
       "      <td>17</td>\n",
       "      <td>PARQUE INDUSTRIAL</td>\n",
       "      <td>0</td>\n",
       "      <td>0</td>\n",
       "      <td>0</td>\n",
       "      <td>0</td>\n",
       "      <td>0</td>\n",
       "      <td>0</td>\n",
       "      <td>No</td>\n",
       "    </tr>\n",
       "  </tbody>\n",
       "</table>\n",
       "</div>"
      ],
      "text/plain": [
       "          PatientId  AppointmentID Gender        ScheduledDay AppointmentDay  \\\n",
       "75207  8.255992e+12        5663947      F 2016-05-05 10:48:59     2016-05-05   \n",
       "\n",
       "       Age      Neighbourhood  Scholarship  Hipertension  Diabetes  \\\n",
       "75207   17  PARQUE INDUSTRIAL            0             0         0   \n",
       "\n",
       "       Alcoholism  Handcap  SMS_received No-show  \n",
       "75207           0        0             0      No  "
      ]
     },
     "execution_count": 34,
     "metadata": {},
     "output_type": "execute_result"
    }
   ],
   "source": [
    "df[df['Neighbourhood']=='PARQUE INDUSTRIAL']"
   ]
  },
  {
   "cell_type": "code",
   "execution_count": 35,
   "metadata": {},
   "outputs": [
    {
     "data": {
      "text/plain": [
       "SÃO BENEDITO                   0.280751\n",
       "DO MOSCOSO                     0.268765\n",
       "ILHA DO PRÍNCIPE               0.255516\n",
       "PIEDADE                        0.254425\n",
       "SANTOS REIS                    0.219378\n",
       "GURIGICA                       0.209118\n",
       "SANTA HELENA                   0.196629\n",
       "ILHA DAS CAIEIRAS              0.189542\n",
       "ARIOVALDO FAVALESSA            0.184397\n",
       "SANTOS DUMONT                  0.184169\n",
       "CARATOÍRA                      0.177778\n",
       "DO CABRAL                      0.173214\n",
       "TABUAZEIRO                     0.171456\n",
       "CONQUISTA                      0.166078\n",
       "JOANA D´ARC                    0.153469\n",
       "SANTA TEREZA                   0.150901\n",
       "CONSOLAÇÃO                     0.144622\n",
       "ESTRELINHA                     0.143123\n",
       "ANDORINHAS                     0.142794\n",
       "SANTA MARTHA                   0.140850\n",
       "NOVA PALESTINA                 0.136926\n",
       "BONFIM                         0.134511\n",
       "DO QUADRO                      0.133098\n",
       "DA PENHA                       0.131710\n",
       "SÃO PEDRO                      0.131127\n",
       "SANTO ANDRÉ                    0.129911\n",
       "FONTE GRANDE                   0.126100\n",
       "CRUZAMENTO                     0.121602\n",
       "BELA VISTA                     0.117986\n",
       "PRAIA DO SUÁ                   0.117236\n",
       "                                 ...   \n",
       "ANTÔNIO HONÓRIO                0.051661\n",
       "GOIABEIRAS                     0.051429\n",
       "FRADINHOS                      0.046512\n",
       "MÁRIO CYPRESTE                 0.043127\n",
       "CENTRO                         0.042891\n",
       "HORTO                          0.034286\n",
       "UNIVERSITÁRIO                  0.032895\n",
       "BENTO FERREIRA                 0.026807\n",
       "ENSEADA DO SUÁ                 0.025532\n",
       "JARDIM CAMBURI                 0.020604\n",
       "MARIA ORTIZ                    0.020500\n",
       "SANTA LÚCIA                    0.018265\n",
       "JUCUTUQUARA                    0.017291\n",
       "DE LOURDES                     0.016393\n",
       "SANTA LUÍZA                    0.016355\n",
       "NAZARETH                       0.014815\n",
       "PARQUE MOSCOSO                 0.012469\n",
       "ILHA DE SANTA MARIA            0.012202\n",
       "REPÚBLICA                      0.010778\n",
       "MATA DA PRAIA                  0.009317\n",
       "MONTE BELO                     0.006068\n",
       "JARDIM DA PENHA                0.002837\n",
       "AEROPORTO                           NaN\n",
       "BARRO VERMELHO                      NaN\n",
       "ILHA DO BOI                         NaN\n",
       "ILHA DO FRADE                       NaN\n",
       "ILHAS OCEÂNICAS DE TRINDADE         NaN\n",
       "MORADA DE CAMBURI                   NaN\n",
       "PARQUE INDUSTRIAL                   NaN\n",
       "PRAIA DO CANTO                      NaN\n",
       "Name: Neighbourhood, Length: 81, dtype: float64"
      ]
     },
     "execution_count": 35,
     "metadata": {},
     "output_type": "execute_result"
    }
   ],
   "source": [
    "(df[df['Scholarship']==1]['Neighbourhood'].value_counts()/df['Neighbourhood'].value_counts()).sort_values(ascending=False)"
   ]
  },
  {
   "cell_type": "code",
   "execution_count": 36,
   "metadata": {},
   "outputs": [
    {
     "data": {
      "text/plain": [
       "ESTRELINHA                     0.146840\n",
       "DO MOSCOSO                     0.130751\n",
       "SANTA MARTHA                   0.109869\n",
       "PRAIA DO SUÁ                   0.079193\n",
       "DA PENHA                       0.077582\n",
       "CRUZAMENTO                     0.069385\n",
       "SÃO BENEDITO                   0.068798\n",
       "INHANGUETÁ                     0.065279\n",
       "SÃO PEDRO                      0.061275\n",
       "BONFIM                         0.059863\n",
       "ROMÃO                          0.056459\n",
       "NOVA PALESTINA                 0.053887\n",
       "SANTOS REIS                    0.051188\n",
       "PIEDADE                        0.050885\n",
       "BELA VISTA                     0.049816\n",
       "ARIOVALDO FAVALESSA            0.049645\n",
       "DE LOURDES                     0.049180\n",
       "FORTE SÃO JOÃO                 0.047644\n",
       "COMDUSA                        0.045161\n",
       "CONQUISTA                      0.042403\n",
       "SÃO JOSÉ                       0.041477\n",
       "GURIGICA                       0.040139\n",
       "SANTA HELENA                   0.039326\n",
       "JESUS DE NAZARETH              0.038205\n",
       "MÁRIO CYPRESTE                 0.037736\n",
       "ILHA DAS CAIEIRAS              0.037348\n",
       "CARATOÍRA                      0.034308\n",
       "REDENÇÃO                       0.033484\n",
       "SANTO ANDRÉ                    0.032283\n",
       "JOANA D´ARC                    0.032235\n",
       "                                 ...   \n",
       "GOIABEIRAS                     0.015714\n",
       "PONTAL DE CAMBURI              0.014493\n",
       "SEGURANÇA DO LAR               0.013793\n",
       "UNIVERSITÁRIO                  0.013158\n",
       "DO CABRAL                      0.012500\n",
       "SANTA TEREZA                   0.010511\n",
       "BENTO FERREIRA                 0.009324\n",
       "ILHA DE SANTA MARIA            0.009019\n",
       "NAZARETH                       0.007407\n",
       "SANTA LÚCIA                    0.006849\n",
       "JARDIM DA PENHA                0.006448\n",
       "BARRO VERMELHO                 0.004728\n",
       "PRAIA DO CANTO                 0.003865\n",
       "JABOUR                         0.003587\n",
       "JUCUTUQUARA                    0.002882\n",
       "REPÚBLICA                      0.002395\n",
       "MARIA ORTIZ                    0.001378\n",
       "JARDIM CAMBURI                 0.001296\n",
       "AEROPORTO                           NaN\n",
       "ANTÔNIO HONÓRIO                     NaN\n",
       "FRADINHOS                           NaN\n",
       "ILHA DO BOI                         NaN\n",
       "ILHA DO FRADE                       NaN\n",
       "ILHAS OCEÂNICAS DE TRINDADE         NaN\n",
       "MATA DA PRAIA                       NaN\n",
       "MONTE BELO                          NaN\n",
       "MORADA DE CAMBURI                   NaN\n",
       "PARQUE INDUSTRIAL                   NaN\n",
       "SANTA CECÍLIA                       NaN\n",
       "SOLON BORGES                        NaN\n",
       "Name: Neighbourhood, Length: 81, dtype: float64"
      ]
     },
     "execution_count": 36,
     "metadata": {},
     "output_type": "execute_result"
    }
   ],
   "source": [
    "(df[df['Alcoholism']==1]['Neighbourhood'].value_counts()/df['Neighbourhood'].value_counts()).sort_values(ascending=False)"
   ]
  },
  {
   "cell_type": "code",
   "execution_count": 42,
   "metadata": {},
   "outputs": [
    {
     "name": "stdout",
     "output_type": "stream",
     "text": [
      "               PatientId  AppointmentID       Age  Scholarship  Hipertension  \\\n",
      "PatientId       1.000000       0.004023 -0.004121    -0.002877     -0.006436   \n",
      "AppointmentID   0.004023       1.000000 -0.019106     0.022619      0.012759   \n",
      "Age            -0.004121      -0.019106  1.000000    -0.092463      0.504586   \n",
      "Scholarship    -0.002877       0.022619 -0.092463     1.000000     -0.019730   \n",
      "Hipertension   -0.006436       0.012759  0.504586    -0.019730      1.000000   \n",
      "Diabetes        0.001608       0.022632  0.292391    -0.024894      0.433085   \n",
      "Alcoholism      0.011014       0.032946  0.095810     0.035022      0.087970   \n",
      "Handcap        -0.007915       0.014107  0.078032    -0.008587      0.080083   \n",
      "SMS_received   -0.009742      -0.256613  0.012633     0.001192     -0.006270   \n",
      "No-show        -0.001456      -0.162597 -0.060327     0.029134     -0.035704   \n",
      "\n",
      "               Diabetes  Alcoholism   Handcap  SMS_received   No-show  \n",
      "PatientId      0.001608    0.011014 -0.007915     -0.009742 -0.001456  \n",
      "AppointmentID  0.022632    0.032946  0.014107     -0.256613 -0.162597  \n",
      "Age            0.292391    0.095810  0.078032      0.012633 -0.060327  \n",
      "Scholarship   -0.024894    0.035022 -0.008587      0.001192  0.029134  \n",
      "Hipertension   0.433085    0.087970  0.080083     -0.006270 -0.035704  \n",
      "Diabetes       1.000000    0.018473  0.057530     -0.014552 -0.015181  \n",
      "Alcoholism     0.018473    1.000000  0.004647     -0.026149 -0.000197  \n",
      "Handcap        0.057530    0.004647  1.000000     -0.024162 -0.006077  \n",
      "SMS_received  -0.014552   -0.026149 -0.024162      1.000000  0.126428  \n",
      "No-show       -0.015181   -0.000197 -0.006077      0.126428  1.000000  \n"
     ]
    }
   ],
   "source": [
    "corrMatrix = df.corr()\n",
    "print (corrMatrix)"
   ]
  },
  {
   "cell_type": "code",
   "execution_count": 43,
   "metadata": {},
   "outputs": [
    {
     "data": {
      "image/png": "[encoded data removed]",
      "text/plain": [
       "<Figure size 288x288 with 1 Axes>"
      ]
     },
     "metadata": {
      "needs_background": "light"
     },
     "output_type": "display_data"
    }
   ],
   "source": [
    "plt.matshow(df.corr())\n",
    "plt.show()"
   ]
  },
  {
   "cell_type": "code",
   "execution_count": 115,
   "metadata": {},
   "outputs": [],
   "source": [
    "df_Show = df[df['No-show']==0]\n",
    "df_NoShow = df[df['No-show']==1]"
   ]
  },
  {
   "cell_type": "code",
   "execution_count": 123,
   "metadata": {},
   "outputs": [
    {
     "data": {
      "image/png": "[encoded data removed]",
      "text/plain": [
       "<Figure size 432x288 with 1 Axes>"
      ]
     },
     "metadata": {
      "needs_background": "light"
     },
     "output_type": "display_data"
    }
   ],
   "source": [
    "df_Show['diff_App_Sch_Day'].hist(bins=20);"
   ]
  },
  {
   "cell_type": "code",
   "execution_count": 124,
   "metadata": {},
   "outputs": [
    {
     "data": {
      "image/png": "[encoded data removed]",
      "text/plain": [
       "<Figure size 432x288 with 1 Axes>"
      ]
     },
     "metadata": {
      "needs_background": "light"
     },
     "output_type": "display_data"
    }
   ],
   "source": [
    "df_NoShow['diff_App_Sch_Day'].hist(bins=20);"
   ]
  },
  {
   "cell_type": "code",
   "execution_count": 47,
   "metadata": {},
   "outputs": [
    {
     "data": {
      "text/plain": [
       "Alcoholism\n",
       "0    0.201948\n",
       "1    0.201488\n",
       "Name: No-show, dtype: float64"
      ]
     },
     "execution_count": 47,
     "metadata": {},
     "output_type": "execute_result"
    }
   ],
   "source": [
    "df.groupby('Alcoholism')['No-show'].mean()"
   ]
  },
  {
   "cell_type": "code",
   "execution_count": 48,
   "metadata": {},
   "outputs": [
    {
     "data": {
      "text/plain": [
       "Handcap\n",
       "0    0.202355\n",
       "1    0.179236\n",
       "2    0.202186\n",
       "3    0.230769\n",
       "4    0.333333\n",
       "Name: No-show, dtype: float64"
      ]
     },
     "execution_count": 48,
     "metadata": {},
     "output_type": "execute_result"
    }
   ],
   "source": [
    "df.groupby('Handcap')['No-show'].mean()"
   ]
  },
  {
   "cell_type": "code",
   "execution_count": 49,
   "metadata": {},
   "outputs": [
    {
     "data": {
      "text/plain": [
       "SMS_received\n",
       "0    0.167035\n",
       "1    0.275745\n",
       "Name: No-show, dtype: float64"
      ]
     },
     "execution_count": 49,
     "metadata": {},
     "output_type": "execute_result"
    }
   ],
   "source": [
    "df.groupby('SMS_received')['No-show'].mean()"
   ]
  },
  {
   "cell_type": "code",
   "execution_count": 50,
   "metadata": {},
   "outputs": [
    {
     "data": {
      "text/plain": [
       "Age\n",
       "0      0.180559\n",
       "1      0.182578\n",
       "2      0.155748\n",
       "3      0.183080\n",
       "4      0.217090\n",
       "5      0.214909\n",
       "6      0.207758\n",
       "7      0.210932\n",
       "8      0.223315\n",
       "9      0.265306\n",
       "10     0.238619\n",
       "11     0.206695\n",
       "12     0.249084\n",
       "13     0.274705\n",
       "14     0.282648\n",
       "15     0.265896\n",
       "16     0.251783\n",
       "17     0.262425\n",
       "18     0.235373\n",
       "19     0.255016\n",
       "20     0.247042\n",
       "21     0.244490\n",
       "22     0.255087\n",
       "23     0.254262\n",
       "24     0.258454\n",
       "25     0.264264\n",
       "26     0.243180\n",
       "27     0.238925\n",
       "28     0.229282\n",
       "29     0.235210\n",
       "         ...   \n",
       "73     0.132414\n",
       "74     0.147841\n",
       "75     0.148897\n",
       "76     0.159370\n",
       "77     0.149905\n",
       "78     0.164510\n",
       "79     0.156410\n",
       "80     0.158513\n",
       "81     0.145161\n",
       "82     0.168367\n",
       "83     0.217857\n",
       "84     0.112540\n",
       "85     0.178182\n",
       "86     0.161538\n",
       "87     0.146739\n",
       "88     0.095238\n",
       "89     0.167630\n",
       "90     0.211009\n",
       "91     0.196970\n",
       "92     0.232558\n",
       "93     0.188679\n",
       "94     0.181818\n",
       "95     0.250000\n",
       "96     0.058824\n",
       "97     0.181818\n",
       "98     0.166667\n",
       "99     0.000000\n",
       "100    0.000000\n",
       "102    0.000000\n",
       "115    0.600000\n",
       "Name: No-show, Length: 103, dtype: float64"
      ]
     },
     "execution_count": 50,
     "metadata": {},
     "output_type": "execute_result"
    }
   ],
   "source": [
    "df.groupby('Age')['No-show'].mean()"
   ]
  },
  {
   "cell_type": "code",
   "execution_count": 52,
   "metadata": {},
   "outputs": [
    {
     "data": {
      "text/plain": [
       "(179.0, -6.0)"
      ]
     },
     "execution_count": 52,
     "metadata": {},
     "output_type": "execute_result"
    }
   ],
   "source": [
    "df['diff_App_Sch_Day'].max(),df['diff_App_Sch_Day'].min()"
   ]
  },
  {
   "cell_type": "markdown",
   "metadata": {},
   "source": [
    "LO QUE ME QUEDO:\n",
    "    - Media de días entre app y scheduled\n",
    "    - Mito sms received\n",
    "    - Hacer por rango de edad (campaña redes sociales - jóvenes)"
   ]
  },
  {
   "cell_type": "code",
   "execution_count": 110,
   "metadata": {},
   "outputs": [
    {
     "data": {
      "text/plain": [
       "0.20193438647919945"
      ]
     },
     "execution_count": 110,
     "metadata": {},
     "output_type": "execute_result"
    }
   ],
   "source": [
    "df['No-show'].mean()"
   ]
  },
  {
   "cell_type": "code",
   "execution_count": 111,
   "metadata": {},
   "outputs": [
    {
     "data": {
      "text/plain": [
       "0    75044\n",
       "1    35482\n",
       "Name: SMS_received, dtype: int64"
      ]
     },
     "execution_count": 111,
     "metadata": {},
     "output_type": "execute_result"
    }
   ],
   "source": [
    "df['SMS_received'].value_counts()"
   ]
  },
  {
   "cell_type": "code",
   "execution_count": 113,
   "metadata": {},
   "outputs": [
    {
     "data": {
      "text/plain": [
       "SMS_received  No-show\n",
       "0             0          62509\n",
       "              1          12535\n",
       "1             0          25698\n",
       "              1           9784\n",
       "Name: AppointmentID, dtype: int64"
      ]
     },
     "execution_count": 113,
     "metadata": {},
     "output_type": "execute_result"
    }
   ],
   "source": [
    "df.groupby(['SMS_received','No-show'])['AppointmentID'].count()"
   ]
  }
 ],
 "metadata": {
  "kernelspec": {
   "display_name": "Python 3",
   "language": "python",
   "name": "python3"
  },
  "language_info": {
   "codemirror_mode": {
    "name": "ipython",
    "version": 3
   },
   "file_extension": ".py",
   "mimetype": "text/x-python",
   "name": "python",
   "nbconvert_exporter": "python",
   "pygments_lexer": "ipython3",
   "version": "3.7.0"
  }
 },
 "nbformat": 4,
 "nbformat_minor": 2
}
